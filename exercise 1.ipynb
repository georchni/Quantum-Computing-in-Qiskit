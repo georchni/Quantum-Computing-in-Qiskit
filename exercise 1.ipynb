{
 "cells": [
  {
   "cell_type": "code",
   "execution_count": 2,
   "metadata": {},
   "outputs": [],
   "source": [
    "import qiskit\n",
    "from qiskit import Aer"
   ]
  },
  {
   "cell_type": "code",
   "execution_count": 3,
   "metadata": {},
   "outputs": [],
   "source": [
    "%matplotlib inline"
   ]
  },
  {
   "cell_type": "code",
   "execution_count": 6,
   "metadata": {},
   "outputs": [
    {
     "data": {
      "text/html": [
       "<pre style=\"word-wrap: normal;white-space: pre;background: #fff0;line-height: 1.1;font-family: &quot;Courier New&quot;,Courier,monospace\">        ┌───┐      ░ ┌─┐   \n",
       "q_0: |0>┤ H ├──■───░─┤M├───\n",
       "        └───┘┌─┴─┐ ░ └╥┘┌─┐\n",
       "q_1: |0>─────┤ X ├─░──╫─┤M├\n",
       "             └───┘ ░  ║ └╥┘\n",
       " c_0: 0 ══════════════╩══╬═\n",
       "                         ║ \n",
       " c_1: 0 ═════════════════╩═\n",
       "                           </pre>"
      ],
      "text/plain": [
       "<qiskit.visualization.text.TextDrawing at 0x212dedccc18>"
      ]
     },
     "execution_count": 6,
     "metadata": {},
     "output_type": "execute_result"
    }
   ],
   "source": [
    "# construct the circuit\n",
    "\n",
    "# 2 qubits and 2 classical bits\n",
    "circ = qiskit.QuantumCircuit(2, 2)\n",
    "\n",
    "# Hadamard gate on qubit 0, putting this qubit in superposition\n",
    "circ.h(0)\n",
    "# CX (CNOT) gate on control qubit 0 and target qubit 1, putting the qubits in a Bell state\n",
    "circ.cx(0, 1)\n",
    "\n",
    "circ.barrier(range(2))\n",
    "# map the quantum measurement to the classical bits\n",
    "circ.measure(range(2), range(2))\n",
    "\n",
    "circ.draw()"
   ]
  },
  {
   "cell_type": "code",
   "execution_count": 7,
   "metadata": {},
   "outputs": [
    {
     "name": "stdout",
     "output_type": "stream",
     "text": [
      "counts: {'00': 502, '11': 522}\n"
     ]
    }
   ],
   "source": [
    "# use Aer's qasm_simulator\n",
    "backend = Aer.get_backend('qasm_simulator')\n",
    "\n",
    "# execute the circuit on the qasm simulator\n",
    "job = qiskit.execute(circ, backend, shots=1024)\n",
    "\n",
    "result = job.result()\n",
    "# counts should be 50% on average; actual numbers can vary at each run\n",
    "print('counts:', result.get_counts(circ))"
   ]
  },
  {
   "cell_type": "code",
   "execution_count": null,
   "metadata": {},
   "outputs": [],
   "source": []
  }
 ],
 "metadata": {
  "kernelspec": {
   "display_name": "Python 3",
   "language": "python",
   "name": "python3"
  },
  "language_info": {
   "codemirror_mode": {
    "name": "ipython",
    "version": 3
   },
   "file_extension": ".py",
   "mimetype": "text/x-python",
   "name": "python",
   "nbconvert_exporter": "python",
   "pygments_lexer": "ipython3",
   "version": "3.7.6"
  }
 },
 "nbformat": 4,
 "nbformat_minor": 2
}
