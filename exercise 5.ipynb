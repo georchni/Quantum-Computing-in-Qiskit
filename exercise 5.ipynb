{
 "cells": [
  {
   "cell_type": "markdown",
   "metadata": {},
   "source": [
    "# Reduction of factoring to order-finding"
   ]
  },
  {
   "cell_type": "markdown",
   "metadata": {},
   "source": [
    "## 12.1 (a)"
   ]
  },
  {
   "cell_type": "code",
   "execution_count": 1,
   "metadata": {},
   "outputs": [],
   "source": [
    "import math"
   ]
  },
  {
   "cell_type": "code",
   "execution_count": 2,
   "metadata": {},
   "outputs": [
    {
     "data": {
      "text/plain": [
       "[14.866068747318506,\n",
       " 6.045943596012513,\n",
       " 3.8556541270345432,\n",
       " 2.9435976987922756,\n",
       " 2.458850055617974,\n",
       " 2.162286226666647]"
      ]
     },
     "execution_count": 2,
     "metadata": {},
     "output_type": "execute_result"
    }
   ],
   "source": [
    "# step 1 is passed since 221 is odd\n",
    "\n",
    "# regarding step 2, following the hint (never obtain an integer here):\n",
    "[math.pow(221, 1/b) for b in range(2, 8)]"
   ]
  },
  {
   "cell_type": "code",
   "execution_count": 3,
   "metadata": {},
   "outputs": [
    {
     "data": {
      "text/plain": [
       "[(1, 55),\n",
       " (2, 152),\n",
       " (3, 183),\n",
       " (4, 120),\n",
       " (5, 191),\n",
       " (6, 118),\n",
       " (7, 81),\n",
       " (8, 35),\n",
       " (9, 157),\n",
       " (10, 16),\n",
       " (11, 217),\n",
       " (12, 1),\n",
       " (13, 55),\n",
       " (14, 152),\n",
       " (15, 183),\n",
       " (16, 120),\n",
       " (17, 191),\n",
       " (18, 118),\n",
       " (19, 81)]"
      ]
     },
     "execution_count": 3,
     "metadata": {},
     "output_type": "execute_result"
    }
   ],
   "source": [
    "# the order r of 55 modulo 221 is 12 (smallest r such that 55^r = 1 mod 221):\n",
    "[(r, 55**r % 221) for r in range(1, 20)]"
   ]
  },
  {
   "cell_type": "code",
   "execution_count": 4,
   "metadata": {},
   "outputs": [
    {
     "data": {
      "text/plain": [
       "118"
      ]
     },
     "execution_count": 4,
     "metadata": {},
     "output_type": "execute_result"
    }
   ],
   "source": [
    "# compute x^(r/2) mod N:\n",
    "55**6 % 221"
   ]
  },
  {
   "cell_type": "code",
   "execution_count": 5,
   "metadata": {},
   "outputs": [
    {
     "data": {
      "text/plain": [
       "13"
      ]
     },
     "execution_count": 5,
     "metadata": {},
     "output_type": "execute_result"
    }
   ],
   "source": [
    "# finally, compute gcd((x^(r/2) mod N) - 1, N), which must yield a factor of N:\n",
    "math.gcd(118 - 1, 221)"
   ]
  },
  {
   "cell_type": "code",
   "execution_count": 6,
   "metadata": {},
   "outputs": [
    {
     "data": {
      "text/plain": [
       "0"
      ]
     },
     "execution_count": 6,
     "metadata": {},
     "output_type": "execute_result"
    }
   ],
   "source": [
    "# check\n",
    "221 % 13"
   ]
  },
  {
   "cell_type": "code",
   "execution_count": 7,
   "metadata": {},
   "outputs": [
    {
     "data": {
      "text/plain": [
       "17"
      ]
     },
     "execution_count": 7,
     "metadata": {},
     "output_type": "execute_result"
    }
   ],
   "source": [
    "# likewise for gcd((x^(r/2) mod N) + 1, N):\n",
    "math.gcd(118 + 1, 221)"
   ]
  },
  {
   "cell_type": "code",
   "execution_count": 8,
   "metadata": {},
   "outputs": [
    {
     "data": {
      "text/plain": [
       "0"
      ]
     },
     "execution_count": 8,
     "metadata": {},
     "output_type": "execute_result"
    }
   ],
   "source": [
    "# check\n",
    "221 % 17"
   ]
  },
  {
   "cell_type": "code",
   "execution_count": 9,
   "metadata": {},
   "outputs": [
    {
     "data": {
      "text/plain": [
       "221"
      ]
     },
     "execution_count": 9,
     "metadata": {},
     "output_type": "execute_result"
    }
   ],
   "source": [
    "# thus we have found the prime factorization of 221:\n",
    "13*17"
   ]
  },
  {
   "cell_type": "markdown",
   "metadata": {},
   "source": [
    "## 12.1 (b)"
   ]
  },
  {
   "cell_type": "markdown",
   "metadata": {},
   "source": [
    "Enumerating odd integers up to 15:\n",
    "- 3: prime\n",
    "- 5: prime\n",
    "- 7: prime\n",
    "- 9 = 3^2\n",
    "- 11: prime\n",
    "- 13: prime\n",
    "- 15 = 3*5"
   ]
  }
 ],
 "metadata": {
  "kernelspec": {
   "display_name": "Python 3",
   "language": "python",
   "name": "python3"
  },
  "language_info": {
   "codemirror_mode": {
    "name": "ipython",
    "version": 3
   },
   "file_extension": ".py",
   "mimetype": "text/x-python",
   "name": "python",
   "nbconvert_exporter": "python",
   "pygments_lexer": "ipython3",
   "version": "3.7.6"
  }
 },
 "nbformat": 4,
 "nbformat_minor": 2
}
