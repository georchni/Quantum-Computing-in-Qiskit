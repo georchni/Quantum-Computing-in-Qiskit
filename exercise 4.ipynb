{
 "cells": [
  {
   "cell_type": "markdown",
   "metadata": {},
   "source": [
    "# Three qubit quantum Fourier transform"
   ]
  },
  {
   "cell_type": "code",
   "execution_count": 1,
   "metadata": {},
   "outputs": [],
   "source": [
    "import numpy as np"
   ]
  },
  {
   "cell_type": "code",
   "execution_count": 2,
   "metadata": {},
   "outputs": [],
   "source": [
    "# single qubit gates\n",
    "H = np.array([[1, 1], [1, -1]])/np.sqrt(2)\n",
    "S = np.array([[1, 0], [0, 1j]])\n",
    "T = np.array([[1, 0], [0, np.sqrt(1j)]])"
   ]
  },
  {
   "cell_type": "code",
   "execution_count": 3,
   "metadata": {},
   "outputs": [
    {
     "data": {
      "text/plain": [
       "array([[1., 0., 0., 0.],\n",
       "       [0., 0., 1., 0.],\n",
       "       [0., 1., 0., 0.],\n",
       "       [0., 0., 0., 1.]])"
      ]
     },
     "execution_count": 3,
     "metadata": {},
     "output_type": "execute_result"
    }
   ],
   "source": [
    "# swap gate\n",
    "swap = np.identity(4)[[0, 2, 1, 3]]\n",
    "swap"
   ]
  },
  {
   "cell_type": "code",
   "execution_count": 4,
   "metadata": {},
   "outputs": [],
   "source": [
    "def controlled_gate(U):\n",
    "    \"\"\"\n",
    "    Controlled two-qubit gate, with the first qubit the control and the second the target.\n",
    "    \"\"\"\n",
    "    cU = np.identity(4, dtype=U.dtype)\n",
    "    cU[2:4, 2:4] = U\n",
    "    return cU"
   ]
  },
  {
   "cell_type": "code",
   "execution_count": 5,
   "metadata": {},
   "outputs": [
    {
     "data": {
      "text/plain": [
       "array([[ 1.        ,  0.        ,  0.        ,  0.        ],\n",
       "       [ 0.        ,  1.        ,  0.        ,  0.        ],\n",
       "       [ 0.        ,  0.        ,  0.70710678,  0.70710678],\n",
       "       [ 0.        ,  0.        ,  0.70710678, -0.70710678]])"
      ]
     },
     "execution_count": 5,
     "metadata": {},
     "output_type": "execute_result"
    }
   ],
   "source": [
    "# example\n",
    "controlled_gate(H)"
   ]
  },
  {
   "cell_type": "code",
   "execution_count": 6,
   "metadata": {},
   "outputs": [],
   "source": [
    "def reorder_gate(G, perm):\n",
    "    \"\"\"\n",
    "    Adapt gate 'G' to an ordering of the qubits as specified in 'perm'.\n",
    "    \n",
    "    Example, given G = np.kron(np.kron(A, B), C):\n",
    "        reorder_gate(G, [1, 2, 0]) == np.kron(np.kron(B, C), A)\n",
    "    \"\"\"\n",
    "    perm = list(perm)\n",
    "    # number of qubits\n",
    "    n = len(perm)\n",
    "    # reorder both input and output dimensions\n",
    "    perm2 = perm + [n + i for i in perm]\n",
    "    return np.reshape(np.transpose(np.reshape(G, 2*n*[2]), perm2), (2**n, 2**n))"
   ]
  },
  {
   "cell_type": "code",
   "execution_count": 7,
   "metadata": {},
   "outputs": [
    {
     "data": {
      "text/plain": [
       "9.321907481344796e-16"
      ]
     },
     "execution_count": 7,
     "metadata": {},
     "output_type": "execute_result"
    }
   ],
   "source": [
    "# consistency check\n",
    "\n",
    "A = np.random.randn(2, 2)\n",
    "B = np.random.randn(2, 2)\n",
    "C = np.random.randn(2, 2)\n",
    "\n",
    "Gtest = np.kron(np.kron(A, B), C)\n",
    "\n",
    "# compare\n",
    "np.linalg.norm(reorder_gate(Gtest, [1, 2, 0]) - np.kron(np.kron(B, C), A))"
   ]
  },
  {
   "cell_type": "code",
   "execution_count": 8,
   "metadata": {},
   "outputs": [],
   "source": [
    "# construct gates for each step as 8x8 matrices\n",
    "\n",
    "# first Hadamard gate\n",
    "G1 = np.kron(H, np.identity(4))\n",
    "# first controlled-S gate\n",
    "G2 = np.kron(reorder_gate(controlled_gate(S), [1, 0]), np.identity(2))\n",
    "# controlled-T gate\n",
    "G3 = reorder_gate(np.kron(controlled_gate(T), np.identity(2)), [1, 2, 0])\n",
    "# second Hadamard gate\n",
    "G4 = np.kron(np.kron(np.identity(2), H), np.identity(2))\n",
    "# second controlled-S gate\n",
    "G5 = np.kron(np.identity(2), reorder_gate(controlled_gate(S), [1, 0]))\n",
    "# third Hadamard gate\n",
    "G6 = np.kron(np.identity(4), H)\n",
    "# final swap gate\n",
    "G7 = reorder_gate(np.kron(swap, np.identity(2)), [0, 2, 1])"
   ]
  },
  {
   "cell_type": "code",
   "execution_count": 9,
   "metadata": {},
   "outputs": [
    {
     "data": {
      "text/plain": [
       "(8, 8)"
      ]
     },
     "execution_count": 9,
     "metadata": {},
     "output_type": "execute_result"
    }
   ],
   "source": [
    "# compose all gates to obtain the matrix representation of the quantum Fourier transform circuit\n",
    "UQFT = G7 @ G6 @ G5 @ G4 @ G3 @ G2 @ G1\n",
    "UQFT.shape"
   ]
  },
  {
   "cell_type": "code",
   "execution_count": 10,
   "metadata": {},
   "outputs": [],
   "source": [
    "# Fourier matrix, as reference\n",
    "UFref = np.array([[np.exp(2*np.pi*1j*j*k/8)/np.sqrt(8) for j in range(8)] for k in range(8)])"
   ]
  },
  {
   "cell_type": "code",
   "execution_count": 11,
   "metadata": {},
   "outputs": [
    {
     "data": {
      "text/plain": [
       "2.5303720322343966e-15"
      ]
     },
     "execution_count": 11,
     "metadata": {},
     "output_type": "execute_result"
    }
   ],
   "source": [
    "# compare (should be equal up to numerical rounding errors)\n",
    "np.linalg.norm(UQFT - UFref)"
   ]
  }
 ],
 "metadata": {
  "kernelspec": {
   "display_name": "Python 3",
   "language": "python",
   "name": "python3"
  },
  "language_info": {
   "codemirror_mode": {
    "name": "ipython",
    "version": 3
   },
   "file_extension": ".py",
   "mimetype": "text/x-python",
   "name": "python",
   "nbconvert_exporter": "python",
   "pygments_lexer": "ipython3",
   "version": "3.7.6"
  }
 },
 "nbformat": 4,
 "nbformat_minor": 2
}
