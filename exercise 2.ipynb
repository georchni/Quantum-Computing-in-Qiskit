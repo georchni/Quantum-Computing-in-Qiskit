{
 "cells": [
  {
   "cell_type": "code",
   "execution_count": 9,
   "metadata": {},
   "outputs": [],
   "source": [
    "import numpy as np\n",
    "import qiskit\n",
    "from qiskit import Aer"
   ]
  },
  {
   "cell_type": "code",
   "execution_count": 10,
   "metadata": {},
   "outputs": [],
   "source": [
    "%matplotlib inline"
   ]
  },
  {
   "cell_type": "code",
   "execution_count": 11,
   "metadata": {},
   "outputs": [],
   "source": [
    "# 3 qubits\n",
    "circ = qiskit.QuantumCircuit(3)"
   ]
  },
  {
   "cell_type": "code",
   "execution_count": 12,
   "metadata": {},
   "outputs": [
    {
     "data": {
      "text/plain": [
       "<qiskit.circuit.instructionset.InstructionSet at 0x202018f99c8>"
      ]
     },
     "execution_count": 12,
     "metadata": {},
     "output_type": "execute_result"
    }
   ],
   "source": [
    "# prepare initial state\n",
    "# input qubit |psi> = Ry(pi/3) |0>\n",
    "circ.ry(np.pi/3, 0)\n",
    "# entangle the second and third qubit\n",
    "circ.h(1)\n",
    "circ.cx(1, 2)\n",
    "# barrier to prevent gate reordering for optimization\n",
    "circ.barrier(range(3))"
   ]
  },
  {
   "cell_type": "code",
   "execution_count": 13,
   "metadata": {},
   "outputs": [
    {
     "data": {
      "text/plain": [
       "<qiskit.circuit.instructionset.InstructionSet at 0x202019015c8>"
      ]
     },
     "execution_count": 13,
     "metadata": {},
     "output_type": "execute_result"
    }
   ],
   "source": [
    "# actual teleportation circuit\n",
    "circ.cx(0, 1)\n",
    "circ.h(0)\n",
    "circ.barrier(range(3))\n",
    "circ.cx(1, 2)\n",
    "circ.cz(0, 2)"
   ]
  },
  {
   "cell_type": "code",
   "execution_count": 14,
   "metadata": {},
   "outputs": [
    {
     "data": {
      "text/html": [
       "<pre style=\"word-wrap: normal;white-space: pre;background: #fff0;line-height: 1.1;font-family: &quot;Courier New&quot;,Courier,monospace\">     ┌──────────┐      ░      ┌───┐ ░         \n",
       "q_0: ┤ RY(pi/3) ├──────░───■──┤ H ├─░───────■─\n",
       "     └──┬───┬───┘      ░ ┌─┴─┐└───┘ ░       │ \n",
       "q_1: ───┤ H ├──────■───░─┤ X ├──────░───■───┼─\n",
       "        └───┘    ┌─┴─┐ ░ └───┘      ░ ┌─┴─┐ │ \n",
       "q_2: ────────────┤ X ├─░────────────░─┤ X ├─■─\n",
       "                 └───┘ ░            ░ └───┘   </pre>"
      ],
      "text/plain": [
       "     ┌──────────┐      ░      ┌───┐ ░         \n",
       "q_0: ┤ RY(pi/3) ├──────░───■──┤ H ├─░───────■─\n",
       "     └──┬───┬───┘      ░ ┌─┴─┐└───┘ ░       │ \n",
       "q_1: ───┤ H ├──────■───░─┤ X ├──────░───■───┼─\n",
       "        └───┘    ┌─┴─┐ ░ └───┘      ░ ┌─┴─┐ │ \n",
       "q_2: ────────────┤ X ├─░────────────░─┤ X ├─■─\n",
       "                 └───┘ ░            ░ └───┘   "
      ]
     },
     "execution_count": 14,
     "metadata": {},
     "output_type": "execute_result"
    }
   ],
   "source": [
    "circ.draw()"
   ]
  },
  {
   "cell_type": "code",
   "execution_count": 15,
   "metadata": {},
   "outputs": [
    {
     "name": "stdout",
     "output_type": "stream",
     "text": [
      "[0.4330127+0.000000e+00j 0.4330127+0.000000e+00j 0.4330127+0.000000e+00j\n",
      " 0.4330127+0.000000e+00j 0.25     -3.061617e-17j 0.25     -3.061617e-17j\n",
      " 0.25     -3.061617e-17j 0.25     -3.061617e-17j]\n"
     ]
    }
   ],
   "source": [
    "# use Aer's statevector simulator\n",
    "backend = Aer.get_backend('statevector_simulator')\n",
    "\n",
    "# execute the circuit on the simulator\n",
    "job = qiskit.execute(circ, backend)\n",
    "\n",
    "result = job.result()\n",
    "statevector = result.get_statevector(circ)\n",
    "# entries are (\\sqrt(3)/2, 1/2), multiplied by 1/2 due to the computational basis superposition of the first two qubits\n",
    "print(statevector)"
   ]
  },
  {
   "cell_type": "code",
   "execution_count": null,
   "metadata": {},
   "outputs": [],
   "source": []
  },
  {
   "cell_type": "code",
   "execution_count": null,
   "metadata": {},
   "outputs": [],
   "source": []
  }
 ],
 "metadata": {
  "kernelspec": {
   "display_name": "Python 3",
   "language": "python",
   "name": "python3"
  },
  "language_info": {
   "codemirror_mode": {
    "name": "ipython",
    "version": 3
   },
   "file_extension": ".py",
   "mimetype": "text/x-python",
   "name": "python",
   "nbconvert_exporter": "python",
   "pygments_lexer": "ipython3",
   "version": "3.7.6"
  }
 },
 "nbformat": 4,
 "nbformat_minor": 2
}
